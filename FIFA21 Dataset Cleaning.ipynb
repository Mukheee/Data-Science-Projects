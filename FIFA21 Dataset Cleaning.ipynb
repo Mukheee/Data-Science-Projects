# import Libraries
import pandas as pd
import numpy as np

# Read in the dataset
# pd.set_option("display.max_columns", None)
fifa_21 = pd.read_csv("fifa21 raw data v2.csv")
print(fifa_21.head(10))
print(fifa_21.shape)
print(fifa_21.info())

# create a copy of the dataframe
fifa21 = fifa_21.copy()

# Clean Club column
'''print(fifa21['Club'].dtypes)
print(fifa21['Club'].unique())
fifa21['Club'] = fifa21['Club'].str.strip()  #remove leading spaces
print(fifa21['Club'].unique())'''

# Clean contract column
'''print(fifa21['Contract'].dtypes)
print(fifa21['Contract'].unique())
for index, row in fifa21.iterrows():
    if 'On Loan' in row['Contract'] or 'Free' in row['Contract']:
        print(row['Contract'])'''


def contract_info(contract):
    global start_year, end_year
    if contract == 'Free' or 'On Loan' in contract:
        start_date = np.nan
        end_date = np.nan
        contract_length = 0
    else:
        start_date, end_date = contract.split(' ~ ')
        start_year = int(start_date[:4])
        end_year = int(end_date[:4])
        contract_length = end_year - start_year
    return start_year, end_year, contract_length


# Apply function to contract column and create new columns
new_cols = ['Contract Start', 'Contract End', 'Contract Length(years)']
new_data = fifa21['Contract'].apply(lambda x: pd.Series(contract_info(x)))

for i in range(len(new_cols)):
    fifa21.insert(loc=fifa21.columns.get_loc('Contract') + 1 + i, column=new_cols[i], value=new_data[i])


# Contract categories
def contract_status(contract):
    if contract == 'Free':
        return 'Free'
    elif 'On Loan' in contract:
        return 'On Loan'
    else:
        return 'Contract'


# Add contract status column
fifa21.insert(fifa21.columns.get_loc('Contract Length(years)') + 1, 'Contract Status',
              fifa21['Contract'].apply(contract_status))
# print(fifa21.info())

# Height column
print(fifa21['Height'].dtypes)


# create a function to convert height
def convert_height(height):
    if "cm" in height:
        return int(height.strip('cm'))
    else:
        feet, inches = height.split("'")
        total_inches = int(feet) * 12 + int(inches.strip('"'))
        return round(total_inches * 2.54)


# Apply func to height column
fifa21['Height'] = fifa21['Height'].apply(convert_height)
fifa21 = fifa21.rename(columns={'Height': 'Height(cm)'})


# Weight column cleaning
def convert_weight(weight):
    if 'kg' in weight:
        return int(weight.strip('kg'))
    else:
        pounds = int(weight.strip('lbs'))
        return round(pounds / 2.205)


# Apply function to weight column
# Apply func to height column
fifa21['Weight'] = fifa21['Weight'].apply(convert_weight)
fifa21 = fifa21.rename(columns={'Weight': 'Weight(kg)'})

#Loan date end
'''print(fifa21['Loan Date End'].dtypes)
print(fifa21['Loan Date End'].unique())

on_loan = fifa21[fifa21['Contract Status'] == 'On Loan']
print(on_loan[['Contract', 'Contract Status', 'Loan Date End']])'''

#Clean foot rating
print(fifa21['W/F'].dtypes)
print(fifa21['W/F'].unique())
fifa21['W/F'] = fifa21['W/F'].str.replace('★', "").str.strip()
print(fifa21['W/F'].unique())